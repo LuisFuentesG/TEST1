{
 "cells": [
  {
   "cell_type": "markdown",
   "id": "cdd43c5e-9786-4fc4-a2ad-4b42b2d0d13a",
   "metadata": {},
   "source": [
    "<h1>Data Science Tools and Ecosystem<h1>"
   ]
  },
  {
   "cell_type": "markdown",
   "id": "a3380055-a701-4914-b50b-e5bb1f6c6dda",
   "metadata": {},
   "source": [
    "En este cuaderno, se resumen las herramientas y ecosistemas de ciencia de datos."
   ]
  },
  {
   "cell_type": "markdown",
   "id": "d4d790da-58ad-4fc6-8e8f-2d264fc15293",
   "metadata": {},
   "source": [
    "Algunos de los lenguajes populares que utilizan los científicos de datos son:\n",
    "1.-Python.\n",
    "2.-SQL.\n",
    "3.-R."
   ]
  },
  {
   "cell_type": "markdown",
   "id": "8a93fedd-82f5-4483-ac51-03b573a15ea9",
   "metadata": {},
   "source": [
    "Algunas de las bibliotecas comúnmente utilizadas por los científicos de datos incluyen:\n",
    "1.- Numpy.\n",
    "2.- Pandas.\n",
    "3.- Mathplotlib."
   ]
  },
  {
   "cell_type": "markdown",
   "id": "be0ef3c4-d925-4558-a95b-e9907ebef1c2",
   "metadata": {},
   "source": [
    "| Herramientas de Ciencia de Datos |\n",
    "|:--------:|\n",
    "| Apache Spark |\n",
    "| Hadoop |\n",
    "| CouchDB |"
   ]
  },
  {
   "cell_type": "markdown",
   "id": "a073169a-e674-4f8d-a603-cb65542c720a",
   "metadata": {},
   "source": [
    "<h3>A continuación, se presentan algunos ejemplos de evaluación de expresiones aritméticas en Python<h3>"
   ]
  },
  {
   "cell_type": "code",
   "execution_count": 1,
   "id": "eba22d00-98ff-4626-85a5-7b3fb88cd6e5",
   "metadata": {},
   "outputs": [
    {
     "data": {
      "text/plain": [
       "17"
      ]
     },
     "execution_count": 1,
     "metadata": {},
     "output_type": "execute_result"
    }
   ],
   "source": [
    "(3*4)+5"
   ]
  },
  {
   "cell_type": "markdown",
   "id": "a601727e-a9a8-4cb4-a4d4-e8b5779a7ef7",
   "metadata": {},
   "source": [
    "Esta es una expresión aritmética simple para multiplicar y luego sumar enteros"
   ]
  },
  {
   "cell_type": "code",
   "execution_count": 2,
   "id": "ba6cdfff-b0d4-4f3a-ae1e-efad5f6231d7",
   "metadata": {},
   "outputs": [
    {
     "data": {
      "text/plain": [
       "3.3333333333333335"
      ]
     },
     "execution_count": 2,
     "metadata": {},
     "output_type": "execute_result"
    }
   ],
   "source": [
    "200/60"
   ]
  },
  {
   "cell_type": "markdown",
   "id": "19194641-a5ba-461c-b133-83def6563cef",
   "metadata": {},
   "source": [
    "Esto convertirá 200 minutos a horas dividiendo por 60"
   ]
  },
  {
   "cell_type": "markdown",
   "id": "ea756ad3-6c06-48fa-9b82-77bea578ada0",
   "metadata": {},
   "source": [
    "<ul>\n",
    "<li>Lenguajes de ciencia de datos</li>\n",
    "<li>Bibliotecas</li>\n",
    "<li>Herramientas</li>\n",
    "</ul>"
   ]
  },
  {
   "cell_type": "markdown",
   "id": "ded5c81f-c48d-4125-a4cd-51d84e99d923",
   "metadata": {},
   "source": [
    "<h2> Autor: Luis Fernando Fuentes García <h2>"
   ]
  },
  {
   "cell_type": "code",
   "execution_count": null,
   "id": "e515c519-1061-43ca-91f6-95e8013f10d4",
   "metadata": {},
   "outputs": [],
   "source": []
  }
 ],
 "metadata": {
  "kernelspec": {
   "display_name": "Python 3 (ipykernel)",
   "language": "python",
   "name": "python3"
  },
  "language_info": {
   "codemirror_mode": {
    "name": "ipython",
    "version": 3
   },
   "file_extension": ".py",
   "mimetype": "text/x-python",
   "name": "python",
   "nbconvert_exporter": "python",
   "pygments_lexer": "ipython3",
   "version": "3.12.8"
  }
 },
 "nbformat": 4,
 "nbformat_minor": 5
}
